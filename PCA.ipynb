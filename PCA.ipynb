{
  "nbformat": 4,
  "nbformat_minor": 0,
  "metadata": {
    "colab": {
      "name": "Copy of Assign3 (4).ipynb",
      "provenance": [],
      "collapsed_sections": []
    },
    "kernelspec": {
      "name": "python3",
      "display_name": "Python 3"
    }
  },
  "cells": [
    {
      "cell_type": "code",
      "metadata": {
        "id": "N6LJMz7YdmOH",
        "colab_type": "code",
        "outputId": "ce8dae4b-ae5b-416d-b963-43ef609d6b77",
        "colab": {
          "base_uri": "https://localhost:8080/",
          "height": 315
        }
      },
      "source": [
        "!wget https://github.com/daniel-e/mnist_octave/raw/master/mnist.mat\n",
        "import scipy.io\n",
        "mat = scipy.io.loadmat('mnist.mat')"
      ],
      "execution_count": 0,
      "outputs": [
        {
          "output_type": "stream",
          "text": [
            "--2019-10-19 01:17:06--  https://github.com/daniel-e/mnist_octave/raw/master/mnist.mat\n",
            "Resolving github.com (github.com)... 140.82.118.4\n",
            "Connecting to github.com (github.com)|140.82.118.4|:443... connected.\n",
            "HTTP request sent, awaiting response... 302 Found\n",
            "Location: https://raw.githubusercontent.com/daniel-e/mnist_octave/master/mnist.mat [following]\n",
            "--2019-10-19 01:17:06--  https://raw.githubusercontent.com/daniel-e/mnist_octave/master/mnist.mat\n",
            "Resolving raw.githubusercontent.com (raw.githubusercontent.com)... 151.101.0.133, 151.101.64.133, 151.101.128.133, ...\n",
            "Connecting to raw.githubusercontent.com (raw.githubusercontent.com)|151.101.0.133|:443... connected.\n",
            "HTTP request sent, awaiting response... 200 OK\n",
            "Length: 14278089 (14M) [application/octet-stream]\n",
            "Saving to: ‘mnist.mat’\n",
            "\n",
            "mnist.mat           100%[===================>]  13.62M  --.-KB/s    in 0.07s   \n",
            "\n",
            "2019-10-19 01:17:07 (182 MB/s) - ‘mnist.mat’ saved [14278089/14278089]\n",
            "\n"
          ],
          "name": "stdout"
        }
      ]
    },
    {
      "cell_type": "code",
      "metadata": {
        "id": "WzO4DAlRdmrJ",
        "colab_type": "code",
        "colab": {}
      },
      "source": [
        "import numpy as np\n",
        "import matplotlib.pyplot as plt\n",
        "\n",
        "trainX = mat['trainX']\n",
        "testX = mat['testX']\n",
        "trainX = np.array(trainX, dtype=np.float)\n",
        "testX = np.array(testX, dtype=np.float)\n",
        "\n",
        "trainy = mat['trainY']\n",
        "testy = mat['testY']"
      ],
      "execution_count": 0,
      "outputs": []
    },
    {
      "cell_type": "code",
      "metadata": {
        "id": "Kh1C1sU4OMQ_",
        "colab_type": "code",
        "colab": {}
      },
      "source": [
        "# X is data points, y is predicted points\n",
        "def euclidean(x, y):\n",
        "  return np.sqrt(np.sum((x-y) ** 2))\n",
        "\n",
        "def cosine(x, y):\n",
        "  return np.dot(x, y) / (np.sqrt(np.dot(x, x)) * np.sqrt(np.dot(y, y)))\n",
        "\n"
      ],
      "execution_count": 0,
      "outputs": []
    },
    {
      "cell_type": "code",
      "metadata": {
        "id": "66nwRACTegsr",
        "colab_type": "code",
        "colab": {}
      },
      "source": [
        "X = mat['trainX'][:10000,:]\n",
        "X = np.array(X, dtype=np.float)\n",
        "y = mat['trainY'][:,:10000][0]\n",
        "\n",
        "test_X = mat['testX'][:1000,:]\n",
        "test_X = np.array(test_X, dtype=np.float)\n",
        "test_y = mat['testY'][:,:1000][0]\n",
        "\n",
        "  \n",
        "xbar = np.mean(X, axis=0)\n",
        "zero_mean = X - xbar\n",
        "test_xbar = np.mean(test_X, axis=0)\n",
        "test_zero = test_X - test_xbar"
      ],
      "execution_count": 0,
      "outputs": []
    },
    {
      "cell_type": "code",
      "metadata": {
        "id": "GPMZU5a_jkB7",
        "colab_type": "code",
        "outputId": "b8cf0a17-86b3-4ff5-b138-0e5b4bccde14",
        "colab": {
          "base_uri": "https://localhost:8080/",
          "height": 35
        }
      },
      "source": [
        "[u, s, v] = np.linalg.svd(zero_mean)\n",
        "PCs = v.T\n",
        "np.shape(PCs)"
      ],
      "execution_count": 0,
      "outputs": [
        {
          "output_type": "execute_result",
          "data": {
            "text/plain": [
              "(784, 784)"
            ]
          },
          "metadata": {
            "tags": []
          },
          "execution_count": 12
        }
      ]
    },
    {
      "cell_type": "code",
      "metadata": {
        "id": "hS4SLyq-ofeN",
        "colab_type": "code",
        "outputId": "d51ab081-226a-43c3-f294-db748732e21a",
        "colab": {
          "base_uri": "https://localhost:8080/",
          "height": 520
        }
      },
      "source": [
        "components = np.arange(2,31)\n",
        "accuracy = []\n",
        "\n",
        "for(basis_ix,basis) in enumerate(components):\n",
        "  correct = 0\n",
        "  \n",
        "  Xprojected = np.matmul(zero_mean, PCs[:,:basis])\n",
        "  Testprojected = np.matmul(test_zero, PCs[:, :basis])\n",
        "  \n",
        "  for ti in range(np.shape(Testprojected)[0]):\n",
        "    distances = []\n",
        "    \n",
        "    for ix in range(np.shape(Xprojected)[0]):\n",
        "      distance = euclidean(Xprojected[ix, :], Testprojected[ti, :])\n",
        "      distances.append(distance)\n",
        "      \n",
        "    distances = np.array(distances)\n",
        "    m = np.argmin(distances)\n",
        "    if(y[m] == test_y[ti]):\n",
        "      correct += 1\n",
        "      \n",
        "  print(correct/np.shape(Testprojected)[0], correct, basis_ix)\n",
        "  accuracy.append(correct/np.shape(Testprojected)[0])"
      ],
      "execution_count": 0,
      "outputs": [
        {
          "output_type": "stream",
          "text": [
            "0.367 367 0\n",
            "0.37 370 1\n",
            "0.497 497 2\n",
            "0.6 600 3\n",
            "0.677 677 4\n",
            "0.767 767 5\n",
            "0.813 813 6\n",
            "0.833 833 7\n",
            "0.836 836 8\n",
            "0.852 852 9\n",
            "0.875 875 10\n",
            "0.892 892 11\n",
            "0.899 899 12\n",
            "0.903 903 13\n",
            "0.915 915 14\n",
            "0.913 913 15\n",
            "0.909 909 16\n",
            "0.915 915 17\n",
            "0.919 919 18\n",
            "0.922 922 19\n",
            "0.926 926 20\n",
            "0.927 927 21\n",
            "0.926 926 22\n",
            "0.93 930 23\n",
            "0.932 932 24\n",
            "0.932 932 25\n",
            "0.929 929 26\n",
            "0.932 932 27\n",
            "0.928 928 28\n"
          ],
          "name": "stdout"
        }
      ]
    },
    {
      "cell_type": "code",
      "metadata": {
        "id": "g9Iwm0Gr2fRx",
        "colab_type": "code",
        "outputId": "beea01b2-0dd7-4f2b-ae2e-3b7785445513",
        "colab": {
          "base_uri": "https://localhost:8080/",
          "height": 295
        }
      },
      "source": [
        "plt.figure()\n",
        "plt.plot(components, accuracy, 'x-')\n",
        "plt.title('NN in PCA Space')\n",
        "plt.xlabel('Number of principal components')\n",
        "plt.ylabel('Accuracy (in % correctly classified)')\n",
        "plt.savefig('NN_PCA.jpg')"
      ],
      "execution_count": 0,
      "outputs": [
        {
          "output_type": "display_data",
          "data": {
            "image/png": "[encoded data removed]",
            "text/plain": [
              "<Figure size 432x288 with 1 Axes>"
            ]
          },
          "metadata": {
            "tags": []
          }
        }
      ]
    },
    {
      "cell_type": "code",
      "metadata": {
        "id": "pApkLyCtzYT-",
        "colab_type": "code",
        "outputId": "2fed3c81-bbc9-4f0c-c93b-4826189854db",
        "colab": {
          "base_uri": "https://localhost:8080/",
          "height": 287
        }
      },
      "source": [
        "coeffs = np.random.randn(1, 100) * 10\n",
        "\n",
        "new_face = np.dot(coeffs, PCs[:, :100].T)\n",
        "\n",
        "np.shape(new_face)\n",
        "\n",
        "plt.imshow(np.reshape(new_face + xbar, (28,28)))"
      ],
      "execution_count": 0,
      "outputs": [
        {
          "output_type": "execute_result",
          "data": {
            "text/plain": [
              "<matplotlib.image.AxesImage at 0x7fa7b3e89ac8>"
            ]
          },
          "metadata": {
            "tags": []
          },
          "execution_count": 8
        },
        {
          "output_type": "display_data",
          "data": {
            "image/png": "[encoded data removed]",
            "text/plain": [
              "<Figure size 432x288 with 1 Axes>"
            ]
          },
          "metadata": {
            "tags": []
          }
        }
      ]
    }
  ]
}