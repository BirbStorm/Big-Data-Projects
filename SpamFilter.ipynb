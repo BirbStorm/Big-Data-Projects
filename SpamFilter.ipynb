{
  "nbformat": 4,
  "nbformat_minor": 0,
  "metadata": {
    "colab": {
      "name": "SpamFilter.ipynb",
      "provenance": [],
      "collapsed_sections": []
    },
    "kernelspec": {
      "name": "python3",
      "display_name": "Python 3"
    }
  },
  "cells": [
    {
      "cell_type": "code",
      "metadata": {
        "id": "tgSnX9TOGSjZ",
        "colab_type": "code",
        "outputId": "fdc896c9-0c22-4df3-d00a-a4a8d15bfdba",
        "colab": {
          "base_uri": "https://localhost:8080/",
          "height": 212
        }
      },
      "source": [
        "!wget https://raw.githubusercontent.com/tasdikrahman/datasets/master/email/csv/spam-apache.csv"
      ],
      "execution_count": 0,
      "outputs": [
        {
          "output_type": "stream",
          "text": [
            "--2019-10-13 19:33:35--  https://raw.githubusercontent.com/tasdikrahman/datasets/master/email/csv/spam-apache.csv\n",
            "Resolving raw.githubusercontent.com (raw.githubusercontent.com)... 151.101.0.133, 151.101.64.133, 151.101.128.133, ...\n",
            "Connecting to raw.githubusercontent.com (raw.githubusercontent.com)|151.101.0.133|:443... connected.\n",
            "HTTP request sent, awaiting response... 200 OK\n",
            "Length: 366506 (358K) [text/plain]\n",
            "Saving to: ‘spam-apache.csv’\n",
            "\n",
            "\rspam-apache.csv       0%[                    ]       0  --.-KB/s               \rspam-apache.csv     100%[===================>] 357.92K  --.-KB/s    in 0.02s   \n",
            "\n",
            "2019-10-13 19:33:35 (20.4 MB/s) - ‘spam-apache.csv’ saved [366506/366506]\n",
            "\n"
          ],
          "name": "stdout"
        }
      ]
    },
    {
      "cell_type": "code",
      "metadata": {
        "id": "kQrZdbeOHWCA",
        "colab_type": "code",
        "colab": {}
      },
      "source": [
        "#80% of emails are for training 20% for testing good trainign set is balanced\n",
        "#equal number of spam and not spam\n",
        "\n",
        "import pandas as pd\n",
        "import numpy as np\n",
        "import matplotlib.pyplot as plt\n",
        "import re\n",
        "data_spam = pd.read_csv('spam-apache.csv', header=0)\n",
        "rows = data_spam.iloc[:, 0:2]\n",
        "shuffle = np.random.permutation(np.shape(rows)[0])\n",
        "\n",
        "rows = rows.iloc[shuffle]\n",
        "training_size = int(len(rows) * .8)\n",
        "training_set = rows[:training_size]\n",
        "test_set = rows[training_size:]"
      ],
      "execution_count": 0,
      "outputs": []
    },
    {
      "cell_type": "code",
      "metadata": {
        "id": "SZ6N1pGFf_ya",
        "colab_type": "code",
        "outputId": "4813e1c6-a227-4e13-9ecb-cb8218d9dbdb",
        "colab": {
          "base_uri": "https://localhost:8080/",
          "height": 248
        }
      },
      "source": [
        "\n",
        "# nr_train = 100\n",
        "# tr = [data_spam.iloc[:nr_train, 0], data_spam.iloc[:nr_train, 1]]\n",
        "# t = [data_spam.iloc[nr_train:, 0], data_spam.iloc[nr_train:, 1]]\n",
        "\n",
        "# emails = [(re.sub(\" +\", \" \", re.sub(\"[^a-zA-Z]\", \" \", email)) for email in tr[1])]\n",
        "# labels = [int(n) for n in (tr[0] + 1) /2]\n",
        "# constant = np.log( np.sum(np.where(np.array(labels)==0)) / np.sum(np.where(np.array(labels)==1)))\n",
        "# pofx = {}\n",
        "# for (ix, email) in enumerate(emails):\n",
        "#   words = email.split(' ')\n",
        "#   for word in words:\n",
        "#     if word not in pofx:\n",
        "#       counts = [0, 0]\n",
        "#       counts[labels[ix]] = 1\n",
        "#       pofx[word] = counts\n",
        "#     else:\n",
        "#       pofx[word][labels[ix]] += 1\n",
        "# pofx1 = {i: [pofx[i][0]/np.sum(pofx[i])+ 0.000001, pofx[i][1]/np.sum(pofx[i])+ 0.000001]  for i in pofx}\n",
        "\n",
        "# tables = [[i, np.log(  pofx[i][0]  /  pofx[i][1]  )] for i in pofx]\n",
        "# tabs = {i[0]:i[1] for i in tables}\n",
        "\n",
        "# #evaluation\n",
        "\n",
        "# test_emails = [(re.sub(\" +\", \" \", re.sub(\"[^a-zA-Z]\", \" \", email))) for email in t[1]]\n",
        "# test_labels = [int(n) for n in (t[0] + 1)/2]\n",
        "\n",
        "# correct = 0\n",
        "# t1 = 0\n",
        "# t2 = 0\n",
        "# for (ix, email) in enumerate(test_emails):\n",
        "#   words = email.split(\" \")\n",
        "#   ratio = 0\n",
        "#   for word in words:\n",
        "#     if word in tabs:\n",
        "#       ratio += tabs[word]\n",
        "#   if(ratio < 0):\n",
        "#     guess = 1\n",
        "#   else:\n",
        "#     guess = 0\n",
        "#   if(guess == test_labels[ix]):\n",
        "#     correct += 1\n",
        "#   else:\n",
        "#     if(guess == 1 and test_labels[ix] == 0):\n",
        "#       t1 += 1\n",
        "#     else:\n",
        "#       t2 += 1\n",
        "\n",
        "      \n",
        "# print(\"Correct classifications (percentage): \", correct/np.size(test_labels))\n",
        "# print(\"T1 (percentage): \", t1/np.size(test_labels))\n",
        "# print(\"T2 (percentage): \", t2/np.size(test_labels))"
      ],
      "execution_count": 0,
      "outputs": [
        {
          "output_type": "error",
          "ename": "AttributeError",
          "evalue": "ignored",
          "traceback": [
            "\u001b[0;31m---------------------------------------------------------------------------\u001b[0m",
            "\u001b[0;31mAttributeError\u001b[0m                            Traceback (most recent call last)",
            "\u001b[0;32m<ipython-input-118-6b44df7d7d0e>\u001b[0m in \u001b[0;36m<module>\u001b[0;34m()\u001b[0m\n\u001b[1;32m      9\u001b[0m \u001b[0mpofx\u001b[0m \u001b[0;34m=\u001b[0m \u001b[0;34m{\u001b[0m\u001b[0;34m}\u001b[0m\u001b[0;34m\u001b[0m\u001b[0;34m\u001b[0m\u001b[0m\n\u001b[1;32m     10\u001b[0m \u001b[0;32mfor\u001b[0m \u001b[0;34m(\u001b[0m\u001b[0mix\u001b[0m\u001b[0;34m,\u001b[0m \u001b[0memail\u001b[0m\u001b[0;34m)\u001b[0m \u001b[0;32min\u001b[0m \u001b[0menumerate\u001b[0m\u001b[0;34m(\u001b[0m\u001b[0memails\u001b[0m\u001b[0;34m)\u001b[0m\u001b[0;34m:\u001b[0m\u001b[0;34m\u001b[0m\u001b[0;34m\u001b[0m\u001b[0m\n\u001b[0;32m---> 11\u001b[0;31m   \u001b[0mwords\u001b[0m \u001b[0;34m=\u001b[0m \u001b[0memail\u001b[0m\u001b[0;34m.\u001b[0m\u001b[0msplit\u001b[0m\u001b[0;34m(\u001b[0m\u001b[0;34m' '\u001b[0m\u001b[0;34m)\u001b[0m\u001b[0;34m\u001b[0m\u001b[0;34m\u001b[0m\u001b[0m\n\u001b[0m\u001b[1;32m     12\u001b[0m   \u001b[0;32mfor\u001b[0m \u001b[0mword\u001b[0m \u001b[0;32min\u001b[0m \u001b[0mwords\u001b[0m\u001b[0;34m:\u001b[0m\u001b[0;34m\u001b[0m\u001b[0;34m\u001b[0m\u001b[0m\n\u001b[1;32m     13\u001b[0m     \u001b[0;32mif\u001b[0m \u001b[0mword\u001b[0m \u001b[0;32mnot\u001b[0m \u001b[0;32min\u001b[0m \u001b[0mpofx\u001b[0m\u001b[0;34m:\u001b[0m\u001b[0;34m\u001b[0m\u001b[0;34m\u001b[0m\u001b[0m\n",
            "\u001b[0;31mAttributeError\u001b[0m: 'generator' object has no attribute 'split'"
          ]
        }
      ]
    },
    {
      "cell_type": "code",
      "metadata": {
        "id": "RE046CjMZPHR",
        "colab_type": "code",
        "colab": {}
      },
      "source": [
        "def cleanup(email):\n",
        "  ignore = ['i','me','my','myself','we','our','ours','ourselves','you',\"you're\",\n",
        "   \"you've\",\"you'll\",'your','he','him','his','himself','she','her',\n",
        "   'hers','herself','it',\"it's\",'its','itself','they','them','their','theirs',\n",
        "   'what','which','who','this','that',\"that'll\",'these','those','am',\n",
        "   'is','are','was','were','be','been','being','have','has','had','having',\n",
        "   'do','does','did','doing','a','an','the','and','but','if','or','because',\n",
        "   'as','until','while','of','at','by','for','with','about','against',\n",
        "   'during','before','after','to','from','again','here','there', 'on',\n",
        "   'when','where','why','how','all','any','no','only','own','same','too',\n",
        "   'very','can','will','just','now',\"didn't\",\"haven't\",\"isn't\",\"wasn't\",'·','', '>']\n",
        "  \n",
        "  words = re.sub(\"[^\\w]\", \" \",  email).split()\n",
        "  cleaned = []\n",
        "  for word in words:\n",
        "    if word.lower() not in ignore:\n",
        "      cleaned.append(word.lower())\n",
        "      \n",
        "  #cleaned = [w.lower() for w in words if w.lower() not in ignore]\n",
        "  return cleaned\n"
      ],
      "execution_count": 0,
      "outputs": []
    },
    {
      "cell_type": "code",
      "metadata": {
        "id": "P1q_6h7mTapJ",
        "colab_type": "code",
        "colab": {}
      },
      "source": [
        "allWords ={}\n",
        "# splits dataset the first 80% into training and the rest into test\n",
        "\n",
        "e = [training_set.iloc[:, 0], training_set.iloc[:, 1]]\n",
        "\n",
        "# cleans up the training set and \n",
        "# adds words and occurences to ham/spam dictionaries\n",
        "\n",
        "#gets a list of all words\n",
        "for i in range(len(training_set)):\n",
        "  email = e[1].iloc[i]\n",
        "  words = cleanup(email)\n",
        "  for word in words:\n",
        "    if(word not in allWords):\n",
        "      allWords[word] = 1\n",
        "    else:\n",
        "      allWords[word] += 1\n",
        "\n",
        "#puts all words with occurences over 10 in vocab\n",
        "vocab = {}\n",
        "word_occurences = 0\n",
        "for word in allWords:\n",
        "  if (allWords[word] >= word_occurences):\n",
        "    vocab[word] = 0\n",
        "\n"
      ],
      "execution_count": 0,
      "outputs": []
    },
    {
      "cell_type": "code",
      "metadata": {
        "id": "6x7mWI7dOMlc",
        "colab_type": "code",
        "outputId": "50bc40f9-4ec1-4e2f-974b-2768bcc17cda",
        "colab": {
          "base_uri": "https://localhost:8080/",
          "height": 54
        }
      },
      "source": [
        "#counts the words for ham and spam\n",
        "ham = vocab.copy()\n",
        "spam = vocab.copy()\n",
        "count_spam = 0\n",
        "for i in range(len(training_set)):\n",
        "  email = e[1].iloc[i]\n",
        "  words = cleanup(email)\n",
        "  if(e[0].iloc[i] == -1):#spam\n",
        "    count_spam += 1\n",
        "    for word in words:\n",
        "      if(word in vocab):\n",
        "        if(word in spam):\n",
        "          spam[word] += 1\n",
        "        else:\n",
        "          spam[word] = 1\n",
        "  else: #ham\n",
        "    for word in words:\n",
        "      if(word in vocab):\n",
        "        if(word in ham):\n",
        "          ham[word] += 1\n",
        "        else:\n",
        "          ham[word] = 1\n",
        "\n",
        "count_ham = training_size - count_spam\n",
        "# count_ham = sum(ham.values())\n",
        "# count_spam = sum(spam.values())\n",
        "\n",
        "\n",
        "count_all = count_ham + count_spam\n",
        "print(len(ham))\n",
        "print(count_ham, count_spam, count_all)"
      ],
      "execution_count": 0,
      "outputs": [
        {
          "output_type": "stream",
          "text": [
            "5864\n",
            "103 96 199\n"
          ],
          "name": "stdout"
        }
      ]
    },
    {
      "cell_type": "code",
      "metadata": {
        "id": "uAjigxPFU0m4",
        "colab_type": "code",
        "colab": {}
      },
      "source": [
        "# initializes a class dictionary and holds two seperate dictionaries of \n",
        "# probabilities of ham or spam for each word which are the features\n",
        "features = {}\n",
        "features['ham'] = {}\n",
        "features['spam'] ={}\n",
        "\n",
        "#populates the dictionaries\n",
        "for word, count in ham.items():\n",
        "  features['ham'][word] = np.log((int(count) + 1) / (count_ham + count_all))\n",
        "for word, count in spam.items():\n",
        "  features['spam'][word] = np.log((int(count) + 1) / (count_spam + count_all))\n",
        "\n",
        "val_spam_pre = np.log(count_spam / count_all)\n",
        "val_ham_pre  = np.log(count_ham / count_all)\n",
        "smooth_ham  = np.log(1/count_ham + count_all)\n",
        "smooth_spam = np.log(1/count_spam + count_all)\n",
        "\n"
      ],
      "execution_count": 0,
      "outputs": []
    },
    {
      "cell_type": "code",
      "metadata": {
        "id": "Ui2OHqNLKKAv",
        "colab_type": "code",
        "outputId": "705df4dd-b192-4004-874c-6c7fb4aa2a5b",
        "colab": {
          "base_uri": "https://localhost:8080/",
          "height": 54
        }
      },
      "source": [
        "# Testing\n",
        "e_test = [test_set.iloc[:, 0], test_set.iloc[:, 1]]\n",
        "result = np.array([])\n",
        "gt = np.array(e_test[0])\n",
        "def test(words):\n",
        "  val_spam = val_spam_pre\n",
        "  val_ham  = val_ham_pre\n",
        "  for feature in features:\n",
        "    if feature == 'ham':\n",
        "      for word in words:\n",
        "        if word in features[feature]:\n",
        "          val_ham += features[feature][word]\n",
        "        else:\n",
        "          val_ham += smooth_ham\n",
        "    else:\n",
        "      for word in words:\n",
        "        if word in features[feature]:\n",
        "          val_spam += features[feature][word]\n",
        "        else:\n",
        "          val_spam += smooth_spam\n",
        "  if( val_ham >= val_spam ):\n",
        "    result = 1\n",
        "  else:\n",
        "    result = -1\n",
        "  return result\n",
        "\n",
        "for i in range(len(test_set)):\n",
        "  email = e_test[1].iloc[i]\n",
        "  words = cleanup(email)\n",
        "  # print('Ground Truth: ', e_test[0].iloc[i])\n",
        "  result = np.append(result, test(words))\n",
        "print(len(gt))\n",
        "print(len(result))\n",
        "\n"
      ],
      "execution_count": 0,
      "outputs": [
        {
          "output_type": "stream",
          "text": [
            "50\n",
            "50\n"
          ],
          "name": "stdout"
        }
      ]
    },
    {
      "cell_type": "code",
      "metadata": {
        "id": "s9VrNbR6kVeC",
        "colab_type": "code",
        "outputId": "bc36386a-987b-43c6-ee67-fc84fde6e5f9",
        "colab": {
          "base_uri": "https://localhost:8080/",
          "height": 353
        }
      },
      "source": [
        "# Confusion Matrix\n",
        "\n",
        "\n",
        "cm = np.zeros((2, 2))\n",
        "for i, x in zip(gt, result):\n",
        "  if (i == 1 and x == 1):\n",
        "    cm[0][0] += 1\n",
        "  elif(i == -1 and x == -1):\n",
        "    cm[1][1] += 1\n",
        "  elif(i == -1 and x == 1):\n",
        "    cm[1][0] += 1\n",
        "  elif(i == 1 and x == -1):\n",
        "    cm[0][1] += 1\n",
        "cm[0][0] = cm[0][0]/len(result)\n",
        "cm[0][1] = cm[0][1]/len(result)\n",
        "cm[1][0] = cm[1][0]/len(result)\n",
        "cm[1][1] = cm[1][1]/len(result)\n",
        "\n",
        "accuracy = float(cm[0][0] + cm[1][1]) * 100\n",
        "print('Confusion Matrix:')\n",
        "print(cm)\n",
        "print('Accuracy: ',accuracy, '%')\n",
        "\n",
        "plt.figure(figsize=(10,10))\n",
        "plt.matshow(cm, cmap=plt.cm.Blues)\n",
        "plt.colorbar()\n",
        "plt.ylabel('Actual')\n",
        "plt.xlabel('Predicted')\n",
        "plt.savefig('Confusion_matrix.jpg')\n",
        "\n"
      ],
      "execution_count": 0,
      "outputs": [
        {
          "output_type": "stream",
          "text": [
            "Confusion Matrix:\n",
            "[[0.42 0.02]\n",
            " [0.02 0.54]]\n",
            "Accuracy:  96.0 %\n"
          ],
          "name": "stdout"
        },
        {
          "output_type": "display_data",
          "data": {
            "text/plain": [
              "<Figure size 720x720 with 0 Axes>"
            ]
          },
          "metadata": {
            "tags": []
          }
        },
        {
          "output_type": "display_data",
          "data": {
            "image/png": "[encoded data removed]",
            "text/plain": [
              "<Figure size 288x288 with 2 Axes>"
            ]
          },
          "metadata": {
            "tags": []
          }
        }
      ]
    }
  ]
}